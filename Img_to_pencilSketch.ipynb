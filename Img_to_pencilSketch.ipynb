{
 "cells": [
  {
   "cell_type": "markdown",
   "id": "mszz7mvTTiSw",
   "metadata": {
    "id": "mszz7mvTTiSw"
   },
   "source": [
    "# Task 04 - Beginner Level - Image to Pencil Sketch with Python"
   ]
  },
  {
   "cell_type": "markdown",
   "id": "SFm5KpqyUEM2",
   "metadata": {
    "id": "SFm5KpqyUEM2"
   },
   "source": [
    "Importing Necessary Libraries"
   ]
  },
  {
   "cell_type": "code",
   "execution_count": 1,
   "id": "2ca95cb7",
   "metadata": {
    "colab": {
     "background_save": true
    },
    "id": "2ca95cb7"
   },
   "outputs": [],
   "source": [
    "import cv2"
   ]
  },
  {
   "cell_type": "markdown",
   "id": "90QbqRlnUJ7X",
   "metadata": {
    "id": "90QbqRlnUJ7X"
   },
   "source": [
    "Reading Image"
   ]
  },
  {
   "cell_type": "code",
   "execution_count": 2,
   "id": "bc653827",
   "metadata": {
    "id": "bc653827"
   },
   "outputs": [],
   "source": [
    "img = cv2.imread('rt_image.jpg')"
   ]
  },
  {
   "cell_type": "code",
   "execution_count": 3,
   "id": "779b4b9c",
   "metadata": {
    "id": "779b4b9c",
    "outputId": "6c303e45-e3d3-4c7b-9e14-1bfce191848f"
   },
   "outputs": [
    {
     "name": "stdout",
     "output_type": "stream",
     "text": [
      "(2048, 1256, 3)\n"
     ]
    }
   ],
   "source": [
    "print(img.shape)"
   ]
  },
  {
   "cell_type": "markdown",
   "id": "bsdNjawaUNp6",
   "metadata": {
    "id": "bsdNjawaUNp6"
   },
   "source": [
    "Resizing image"
   ]
  },
  {
   "cell_type": "code",
   "execution_count": 4,
   "id": "b77438ef",
   "metadata": {
    "id": "b77438ef"
   },
   "outputs": [],
   "source": [
    "img = cv2.resize(img,(int(img.shape[1]/3),int(img.shape[0]/3)))"
   ]
  },
  {
   "cell_type": "code",
   "execution_count": 5,
   "id": "7429296d",
   "metadata": {
    "id": "7429296d"
   },
   "outputs": [],
   "source": [
    "cv2.imshow(\"Sir Ratan Tata\",img)\n",
    "cv2.waitKey(0)\n",
    "cv2.destroyAllWindows()"
   ]
  },
  {
   "cell_type": "markdown",
   "id": "BWfVPaPTUW7t",
   "metadata": {
    "id": "BWfVPaPTUW7t"
   },
   "source": [
    "Converting to grayscale image"
   ]
  },
  {
   "cell_type": "code",
   "execution_count": 6,
   "id": "036dad50",
   "metadata": {
    "id": "036dad50"
   },
   "outputs": [],
   "source": [
    "gray_img = cv2.cvtColor(img,cv2.COLOR_BGR2GRAY)"
   ]
  },
  {
   "cell_type": "code",
   "execution_count": 7,
   "id": "87b7db9f",
   "metadata": {
    "id": "87b7db9f"
   },
   "outputs": [],
   "source": [
    "cv2.imshow('Grayscale image',gray_img)\n",
    "cv2.waitKey(0)\n",
    "cv2.destroyAllWindows()"
   ]
  },
  {
   "cell_type": "markdown",
   "id": "b0d61fd1",
   "metadata": {},
   "source": [
    "Inverting the gray image"
   ]
  },
  {
   "cell_type": "code",
   "execution_count": 8,
   "id": "9963e148",
   "metadata": {},
   "outputs": [],
   "source": [
    "inv_img = cv2.bitwise_not(gray_img)\n",
    "cv2.imshow('inverted image',inv_img)\n",
    "cv2.waitKey(0)\n",
    "cv2.destroyAllWindows()"
   ]
  },
  {
   "cell_type": "markdown",
   "id": "C70uwWUsUb8F",
   "metadata": {
    "id": "C70uwWUsUb8F"
   },
   "source": [
    "Converting to blurred image"
   ]
  },
  {
   "cell_type": "code",
   "execution_count": 9,
   "id": "9b92d987",
   "metadata": {
    "id": "9b92d987"
   },
   "outputs": [],
   "source": [
    "blurred_img = cv2.GaussianBlur(inv_img,(21,21),0)"
   ]
  },
  {
   "cell_type": "code",
   "execution_count": 10,
   "id": "5af30b82",
   "metadata": {
    "id": "5af30b82"
   },
   "outputs": [],
   "source": [
    "cv2.imshow('Blurred Image',blurred_img)\n",
    "cv2.waitKey(0)\n",
    "cv2.destroyAllWindows()"
   ]
  },
  {
   "cell_type": "markdown",
   "id": "O0In8Ma9UhSz",
   "metadata": {
    "id": "O0In8Ma9UhSz"
   },
   "source": [
    "Inverting the blurred image"
   ]
  },
  {
   "cell_type": "code",
   "execution_count": 11,
   "id": "0d400dcf",
   "metadata": {
    "id": "0d400dcf"
   },
   "outputs": [],
   "source": [
    "inv_blurred_img = cv2.bitwise_not(blurred_img)"
   ]
  },
  {
   "cell_type": "code",
   "execution_count": 12,
   "id": "fc8f3d5a",
   "metadata": {
    "id": "fc8f3d5a"
   },
   "outputs": [],
   "source": [
    "cv2.imshow('Inverted image',inv_blurred_img)\n",
    "cv2.waitKey(0)\n",
    "cv2.destroyAllWindows()"
   ]
  },
  {
   "cell_type": "markdown",
   "id": "6l_iv8SuUlK5",
   "metadata": {
    "id": "6l_iv8SuUlK5"
   },
   "source": [
    "Converting the image to desired Pencil Sketch"
   ]
  },
  {
   "cell_type": "code",
   "execution_count": 13,
   "id": "827c7625",
   "metadata": {
    "id": "827c7625"
   },
   "outputs": [],
   "source": [
    "sketch = cv2.divide(gray_img, inv_blurred_img, scale=256.0)"
   ]
  },
  {
   "cell_type": "code",
   "execution_count": 14,
   "id": "e59c438b",
   "metadata": {
    "id": "e59c438b"
   },
   "outputs": [],
   "source": [
    "cv2.imshow('Sketch',sketch)\n",
    "cv2.waitKey(0)\n",
    "cv2.destroyAllWindows()"
   ]
  },
  {
   "cell_type": "code",
   "execution_count": null,
   "id": "f8815b72",
   "metadata": {},
   "outputs": [],
   "source": []
  }
 ],
 "metadata": {
  "colab": {
   "collapsed_sections": [],
   "name": "Img_to_pencilSketch.ipynb",
   "provenance": []
  },
  "kernelspec": {
   "display_name": "Python 3 (ipykernel)",
   "language": "python",
   "name": "python3"
  },
  "language_info": {
   "codemirror_mode": {
    "name": "ipython",
    "version": 3
   },
   "file_extension": ".py",
   "mimetype": "text/x-python",
   "name": "python",
   "nbconvert_exporter": "python",
   "pygments_lexer": "ipython3",
   "version": "3.9.4"
  }
 },
 "nbformat": 4,
 "nbformat_minor": 5
}
